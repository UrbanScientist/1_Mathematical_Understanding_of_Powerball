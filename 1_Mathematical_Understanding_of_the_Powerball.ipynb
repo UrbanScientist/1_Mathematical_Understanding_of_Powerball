{
 "cells": [
  {
   "cell_type": "markdown",
   "metadata": {},
   "source": [
    "<p><img  src=\"https://www.arizonalottery.com/~/media/assets/branding/game-logos/powerball_gamelogo.ashx?mh=200\"></p>\n",
    "\n",
    "# 1. A Mathematical Understanding of the Powerball Lottery\n",
    "\n",
    "This is the accompaying Jupyter Notebook to [my article](http://urbanscientist.cool/articles/19/Mathematics-of-the-Powerball-blog/). Here we will take a quick computational walkthrough the article and the functions defined within it. "
   ]
  },
  {
   "cell_type": "code",
   "execution_count": 1,
   "metadata": {
    "collapsed": true
   },
   "outputs": [],
   "source": [
    "#Import the Necessities\n",
    "from scipy.special import factorial, binom\n",
    "import numpy as np\n",
    "import pandas as pd"
   ]
  },
  {
   "cell_type": "markdown",
   "metadata": {},
   "source": [
    "## Calculating the Total number of Combinations & Permutations\n",
    "As in the article I am quick to point out that factorials are computationally ineffecient. We will use them for simple explanation’s sake. Using the defined n, and k within equation in the article. We us them below to arrive at the total number of combinations including permutations, or just combinations within the Powerball lottery.\n",
    "\n",
    "* *n = denotes the maximum value in a range from (1,n)*\n",
    "* *k = denotes the number of values selected from the n range*\n",
    "\n",
    "The computational expression of the binomial coefficient calculation expresses the optionality to include or exclude permutations using the perm parameter. There is also a Scipy Module that can be used called \"binom()\"there is however no way to alter it to have permutations within it. This is why we built our own binomial function. "
   ]
  },
  {
   "cell_type": "code",
   "execution_count": 6,
   "metadata": {
    "collapsed": true
   },
   "outputs": [],
   "source": [
    "def binomial_coefficient(n,k,perm=False):\n",
    "    '''Calculates the Binomial Coefficient (n choose k)\n",
    "\n",
    "    Keyword Arguments:\n",
    "    n = denotes the maximum value in a range from (1,n)\n",
    "    k = denotes the number of values selected from the (1,n) range\n",
    "    perm = denotes whether permutations are included\n",
    "    '''\n",
    "    if perm is True:\n",
    "        binomial_coefficient = round((factorial(n)) / factorial(n-k))\n",
    "    else:\n",
    "        binomial_coefficient = round((factorial(n)) / (factorial(k) * factorial(n-k)))\n",
    "    return binomial_coefficient"
   ]
  },
  {
   "cell_type": "markdown",
   "metadata": {},
   "source": [
    "### Total Number of Combinations and Permutations \n",
    "\n",
    "Taking note that the powerball is a *selection without replacement* meaning that once a number is drawn out of a pool it can no longer be drawn. This means that we must get rid of any permuatations within our calculation. "
   ]
  },
  {
   "cell_type": "code",
   "execution_count": 7,
   "metadata": {},
   "outputs": [
    {
     "data": {
      "text/plain": [
       "1348621560.0"
      ]
     },
     "execution_count": 7,
     "metadata": {},
     "output_type": "execute_result"
    }
   ],
   "source": [
    "binomial_coefficient(69,5,perm=True)"
   ]
  },
  {
   "cell_type": "markdown",
   "metadata": {},
   "source": [
    "### Total Number of Combinations\n",
    "\n",
    "Using the function without using the perm parameter, or declaring it false yeilds us with the total number of combinations deviod of any permutations. "
   ]
  },
  {
   "cell_type": "code",
   "execution_count": 8,
   "metadata": {},
   "outputs": [
    {
     "data": {
      "text/plain": [
       "11238513.0"
      ]
     },
     "execution_count": 8,
     "metadata": {},
     "output_type": "execute_result"
    }
   ],
   "source": [
    "#binomial_coefficient(69,5, perm=False)\n",
    "binomial_coefficient(69,5)"
   ]
  },
  {
   "cell_type": "markdown",
   "metadata": {},
   "source": [
    "## Calculating the Odds of Each Ticket Combination\n",
    "\n",
    "This function gives us the ability to calcluate the range of odds of drawing X correct balls in a non-powerball or one-powerball style lottery. The function takes the n,k,and pmax parameters as inputs and 2 lists with the calculated odds of winning with the powerball or without the powerball. In a lottery without the powerball pool it returns an empty list. "
   ]
  },
  {
   "cell_type": "code",
   "execution_count": 39,
   "metadata": {},
   "outputs": [],
   "source": [
    "def powerball_odds(n,k,pmax=0):\n",
    "    '''Calcluates the range of odds of drawing X correct balls in a non-powerball or one-powerball style lottery.\n",
    "    \n",
    "    Keyword Arguments:\n",
    "    n: The total number of balls in the lottery's drawing\n",
    "    k: The total number of balls that a player can draw out of the n pool\n",
    "    pmax:(optional): The maximum value if there is a powerball drawn from a seperate pool.        \n",
    "    '''\n",
    "    global odds_list\n",
    "    global odds_list_PB\n",
    "    odds_list_PB = []\n",
    "    odds_list = []\n",
    "    m = n-k\n",
    "    for i in range(k+1):\n",
    "        f = k-i\n",
    "        odds_a = binomial_coefficient(k,i)\n",
    "        odds_b = binomial_coefficient(m,f)\n",
    "        odds_c = binomial_coefficient(n,k)\n",
    "        if pmax == 0:\n",
    "            odds = 1/((odds_a * odds_b)/odds_c)\n",
    "            odds_list.append(odds)\n",
    "        else:\n",
    "            odds_d = 1/((odds_a * odds_b)/odds_c)\n",
    "            odds_PB = odds_d * pmax\n",
    "            odds_wo_PB = odds_d * pmax / (pmax - 1)\n",
    "            odds_list_PB.append(odds_PB)\n",
    "            odds_list.append(odds_wo_PB)\n",
    "    return odds_list, odds_list_PB"
   ]
  },
  {
   "cell_type": "markdown",
   "metadata": {},
   "source": [
    "### Calculating the odds of the Powerball from October 2015 - Current"
   ]
  },
  {
   "cell_type": "code",
   "execution_count": 40,
   "metadata": {},
   "outputs": [
    {
     "data": {
      "text/plain": [
       "([1.5329575873183754,\n",
       "  3.6790982095641005,\n",
       "  28.05312384792627,\n",
       "  579.7645595238096,\n",
       "  36525.16725,\n",
       "  11688053.52],\n",
       " [38.323939682959384,\n",
       "  91.97745523910251,\n",
       "  701.3280961981567,\n",
       "  14494.11398809524,\n",
       "  913129.18125,\n",
       "  292201338.0])"
      ]
     },
     "execution_count": 40,
     "metadata": {},
     "output_type": "execute_result"
    }
   ],
   "source": [
    "powerball_odds(69,5,pmax=26)"
   ]
  },
  {
   "cell_type": "markdown",
   "metadata": {},
   "source": [
    "### A Quick Clean\n",
    "Lets Clean the lists up a bit. "
   ]
  },
  {
   "cell_type": "code",
   "execution_count": 41,
   "metadata": {},
   "outputs": [],
   "source": [
    "#Define the Ticket Combinations\n",
    "Correct_Numbers = [i for i in range(6)]\n",
    "Correct_Powerball = 'Powerball'\n",
    "Incorrect_Powerball = 'No Powerball'\n",
    "    \n",
    "#Define the Payouts ($)\n",
    "PayoutW_69 = [4,4,7,100,50000,'Jackpot']\n",
    "PayoutWO = [0,0,0,7,100,1000000]\n",
    "    \n",
    "#Clean the Odds Lists\n",
    "OddsWO = list(map(lambda x: int(x), odds_list))\n",
    "Odds_W = list(map(lambda x: int(x), odds_list_PB))\n",
    "    \n",
    "#Create the DataFrame    \n",
    "OddsW_6926 = pd.DataFrame({'# Correct':Correct_Numbers, 'Correct Powerball #': Correct_Powerball,'Odds1: 1/Probability': Odds_W,\n",
    "                            'Payout':PayoutW_69})\n",
    "OddsWO_6926 = pd.DataFrame({'# Correct':Correct_Numbers, 'Correct Powerball #': Incorrect_Powerball,'Odds: 1/Probability':OddsWO,\n",
    "                             'Payout': PayoutWO})"
   ]
  },
  {
   "cell_type": "markdown",
   "metadata": {},
   "source": [
    "### The Odds with getting the correct Powerball\n",
    "\n",
    "This dataframe also includes the associated payouts in ($) in the payout column.  "
   ]
  },
  {
   "cell_type": "code",
   "execution_count": 42,
   "metadata": {},
   "outputs": [
    {
     "data": {
      "text/html": [
       "<div>\n",
       "<style scoped>\n",
       "    .dataframe tbody tr th:only-of-type {\n",
       "        vertical-align: middle;\n",
       "    }\n",
       "\n",
       "    .dataframe tbody tr th {\n",
       "        vertical-align: top;\n",
       "    }\n",
       "\n",
       "    .dataframe thead th {\n",
       "        text-align: right;\n",
       "    }\n",
       "</style>\n",
       "<table border=\"1\" class=\"dataframe\">\n",
       "  <thead>\n",
       "    <tr style=\"text-align: right;\">\n",
       "      <th></th>\n",
       "      <th># Correct</th>\n",
       "      <th>Correct Powerball #</th>\n",
       "      <th>Odds1: 1/Probability</th>\n",
       "      <th>Payout</th>\n",
       "    </tr>\n",
       "  </thead>\n",
       "  <tbody>\n",
       "    <tr>\n",
       "      <th>0</th>\n",
       "      <td>0</td>\n",
       "      <td>Powerball</td>\n",
       "      <td>38</td>\n",
       "      <td>4</td>\n",
       "    </tr>\n",
       "    <tr>\n",
       "      <th>1</th>\n",
       "      <td>1</td>\n",
       "      <td>Powerball</td>\n",
       "      <td>91</td>\n",
       "      <td>4</td>\n",
       "    </tr>\n",
       "    <tr>\n",
       "      <th>2</th>\n",
       "      <td>2</td>\n",
       "      <td>Powerball</td>\n",
       "      <td>701</td>\n",
       "      <td>7</td>\n",
       "    </tr>\n",
       "    <tr>\n",
       "      <th>3</th>\n",
       "      <td>3</td>\n",
       "      <td>Powerball</td>\n",
       "      <td>14494</td>\n",
       "      <td>100</td>\n",
       "    </tr>\n",
       "    <tr>\n",
       "      <th>4</th>\n",
       "      <td>4</td>\n",
       "      <td>Powerball</td>\n",
       "      <td>913129</td>\n",
       "      <td>50000</td>\n",
       "    </tr>\n",
       "    <tr>\n",
       "      <th>5</th>\n",
       "      <td>5</td>\n",
       "      <td>Powerball</td>\n",
       "      <td>292201338</td>\n",
       "      <td>Jackpot</td>\n",
       "    </tr>\n",
       "  </tbody>\n",
       "</table>\n",
       "</div>"
      ],
      "text/plain": [
       "   # Correct Correct Powerball #  Odds1: 1/Probability   Payout\n",
       "0          0           Powerball                    38        4\n",
       "1          1           Powerball                    91        4\n",
       "2          2           Powerball                   701        7\n",
       "3          3           Powerball                 14494      100\n",
       "4          4           Powerball                913129    50000\n",
       "5          5           Powerball             292201338  Jackpot"
      ]
     },
     "execution_count": 42,
     "metadata": {},
     "output_type": "execute_result"
    }
   ],
   "source": [
    "OddsW_6926"
   ]
  },
  {
   "cell_type": "markdown",
   "metadata": {},
   "source": [
    "### The Odds without getting the correct Powerball"
   ]
  },
  {
   "cell_type": "code",
   "execution_count": 43,
   "metadata": {},
   "outputs": [
    {
     "data": {
      "text/html": [
       "<div>\n",
       "<style scoped>\n",
       "    .dataframe tbody tr th:only-of-type {\n",
       "        vertical-align: middle;\n",
       "    }\n",
       "\n",
       "    .dataframe tbody tr th {\n",
       "        vertical-align: top;\n",
       "    }\n",
       "\n",
       "    .dataframe thead th {\n",
       "        text-align: right;\n",
       "    }\n",
       "</style>\n",
       "<table border=\"1\" class=\"dataframe\">\n",
       "  <thead>\n",
       "    <tr style=\"text-align: right;\">\n",
       "      <th></th>\n",
       "      <th># Correct</th>\n",
       "      <th>Correct Powerball #</th>\n",
       "      <th>Odds: 1/Probability</th>\n",
       "      <th>Payout</th>\n",
       "    </tr>\n",
       "  </thead>\n",
       "  <tbody>\n",
       "    <tr>\n",
       "      <th>0</th>\n",
       "      <td>0</td>\n",
       "      <td>No Powerball</td>\n",
       "      <td>1</td>\n",
       "      <td>0</td>\n",
       "    </tr>\n",
       "    <tr>\n",
       "      <th>1</th>\n",
       "      <td>1</td>\n",
       "      <td>No Powerball</td>\n",
       "      <td>3</td>\n",
       "      <td>0</td>\n",
       "    </tr>\n",
       "    <tr>\n",
       "      <th>2</th>\n",
       "      <td>2</td>\n",
       "      <td>No Powerball</td>\n",
       "      <td>28</td>\n",
       "      <td>0</td>\n",
       "    </tr>\n",
       "    <tr>\n",
       "      <th>3</th>\n",
       "      <td>3</td>\n",
       "      <td>No Powerball</td>\n",
       "      <td>579</td>\n",
       "      <td>7</td>\n",
       "    </tr>\n",
       "    <tr>\n",
       "      <th>4</th>\n",
       "      <td>4</td>\n",
       "      <td>No Powerball</td>\n",
       "      <td>36525</td>\n",
       "      <td>100</td>\n",
       "    </tr>\n",
       "    <tr>\n",
       "      <th>5</th>\n",
       "      <td>5</td>\n",
       "      <td>No Powerball</td>\n",
       "      <td>11688053</td>\n",
       "      <td>1000000</td>\n",
       "    </tr>\n",
       "  </tbody>\n",
       "</table>\n",
       "</div>"
      ],
      "text/plain": [
       "   # Correct Correct Powerball #  Odds: 1/Probability   Payout\n",
       "0          0        No Powerball                    1        0\n",
       "1          1        No Powerball                    3        0\n",
       "2          2        No Powerball                   28        0\n",
       "3          3        No Powerball                  579        7\n",
       "4          4        No Powerball                36525      100\n",
       "5          5        No Powerball             11688053  1000000"
      ]
     },
     "execution_count": 43,
     "metadata": {},
     "output_type": "execute_result"
    }
   ],
   "source": [
    "OddsWO_6926"
   ]
  },
  {
   "cell_type": "markdown",
   "metadata": {},
   "source": [
    "### Calculating the odds of the Powerball from January 2012 - October 2015\n",
    "\n",
    "Let us take a look at how the powerball has changed from the most previous version of the game. It was played where, n = 59, k = 5, and the size of the pool that the powerball could be drawn from ranged to 35. This when ran through the same processes that weused prior shows us how the odds have changed in our favor. "
   ]
  },
  {
   "cell_type": "code",
   "execution_count": 44,
   "metadata": {},
   "outputs": [
    {
     "data": {
      "text/plain": [
       "([1.6296020082335942,\n",
       "  3.2592040164671885,\n",
       "  20.777425604978326,\n",
       "  360.14204381962423,\n",
       "  19087.528322440085,\n",
       "  5153632.647058823],\n",
       " [55.4064682799422,\n",
       "  110.8129365598844,\n",
       "  706.432470569263,\n",
       "  12244.829489867225,\n",
       "  648975.9629629629,\n",
       "  175223510.0])"
      ]
     },
     "execution_count": 44,
     "metadata": {},
     "output_type": "execute_result"
    }
   ],
   "source": [
    "powerball_odds(59,5,pmax=35)"
   ]
  },
  {
   "cell_type": "code",
   "execution_count": 50,
   "metadata": {},
   "outputs": [],
   "source": [
    "#Define the Payouts ($)\n",
    "PayoutW_59 = [4,4,7,100,10000,'Jackpot']\n",
    "PayoutWO = [0,0,0,7,100,1000000]\n",
    "    \n",
    "#Clean the Odds Lists\n",
    "Odds_WO59 = list(map(lambda x: int(x), odds_list))\n",
    "Odds_W59 = list(map(lambda x: int(x), odds_list_PB))\n",
    "\n",
    "#Create the DataFrame    \n",
    "OddsW_5935 = pd.DataFrame({'# Correct':Correct_Numbers, 'Correct Powerball #': Correct_Powerball,'Odds1: 1/Probability': Odds_W59,\n",
    "                            'Payout':PayoutW_59})\n",
    "OddsWO_5935 = pd.DataFrame({'# Correct':Correct_Numbers, 'Correct Powerball #': Incorrect_Powerball,'Odds: 1/Probability':Odds_WO59,\n",
    "                             'Payout': PayoutWO})"
   ]
  },
  {
   "cell_type": "markdown",
   "metadata": {},
   "source": [
    "### The Odds with getting the correct Powerball (2012-2015)"
   ]
  },
  {
   "cell_type": "code",
   "execution_count": 51,
   "metadata": {},
   "outputs": [
    {
     "data": {
      "text/html": [
       "<div>\n",
       "<style scoped>\n",
       "    .dataframe tbody tr th:only-of-type {\n",
       "        vertical-align: middle;\n",
       "    }\n",
       "\n",
       "    .dataframe tbody tr th {\n",
       "        vertical-align: top;\n",
       "    }\n",
       "\n",
       "    .dataframe thead th {\n",
       "        text-align: right;\n",
       "    }\n",
       "</style>\n",
       "<table border=\"1\" class=\"dataframe\">\n",
       "  <thead>\n",
       "    <tr style=\"text-align: right;\">\n",
       "      <th></th>\n",
       "      <th># Correct</th>\n",
       "      <th>Correct Powerball #</th>\n",
       "      <th>Odds1: 1/Probability</th>\n",
       "      <th>Payout</th>\n",
       "    </tr>\n",
       "  </thead>\n",
       "  <tbody>\n",
       "    <tr>\n",
       "      <th>0</th>\n",
       "      <td>0</td>\n",
       "      <td>Powerball</td>\n",
       "      <td>55</td>\n",
       "      <td>4</td>\n",
       "    </tr>\n",
       "    <tr>\n",
       "      <th>1</th>\n",
       "      <td>1</td>\n",
       "      <td>Powerball</td>\n",
       "      <td>110</td>\n",
       "      <td>4</td>\n",
       "    </tr>\n",
       "    <tr>\n",
       "      <th>2</th>\n",
       "      <td>2</td>\n",
       "      <td>Powerball</td>\n",
       "      <td>706</td>\n",
       "      <td>7</td>\n",
       "    </tr>\n",
       "    <tr>\n",
       "      <th>3</th>\n",
       "      <td>3</td>\n",
       "      <td>Powerball</td>\n",
       "      <td>12244</td>\n",
       "      <td>100</td>\n",
       "    </tr>\n",
       "    <tr>\n",
       "      <th>4</th>\n",
       "      <td>4</td>\n",
       "      <td>Powerball</td>\n",
       "      <td>648975</td>\n",
       "      <td>10000</td>\n",
       "    </tr>\n",
       "    <tr>\n",
       "      <th>5</th>\n",
       "      <td>5</td>\n",
       "      <td>Powerball</td>\n",
       "      <td>175223510</td>\n",
       "      <td>Jackpot</td>\n",
       "    </tr>\n",
       "  </tbody>\n",
       "</table>\n",
       "</div>"
      ],
      "text/plain": [
       "   # Correct Correct Powerball #  Odds1: 1/Probability   Payout\n",
       "0          0           Powerball                    55        4\n",
       "1          1           Powerball                   110        4\n",
       "2          2           Powerball                   706        7\n",
       "3          3           Powerball                 12244      100\n",
       "4          4           Powerball                648975    10000\n",
       "5          5           Powerball             175223510  Jackpot"
      ]
     },
     "execution_count": 51,
     "metadata": {},
     "output_type": "execute_result"
    }
   ],
   "source": [
    "OddsW_5935"
   ]
  },
  {
   "cell_type": "markdown",
   "metadata": {},
   "source": [
    "### The Odds without getting the correct Powerball (2012-2015)"
   ]
  },
  {
   "cell_type": "code",
   "execution_count": 52,
   "metadata": {},
   "outputs": [
    {
     "data": {
      "text/html": [
       "<div>\n",
       "<style scoped>\n",
       "    .dataframe tbody tr th:only-of-type {\n",
       "        vertical-align: middle;\n",
       "    }\n",
       "\n",
       "    .dataframe tbody tr th {\n",
       "        vertical-align: top;\n",
       "    }\n",
       "\n",
       "    .dataframe thead th {\n",
       "        text-align: right;\n",
       "    }\n",
       "</style>\n",
       "<table border=\"1\" class=\"dataframe\">\n",
       "  <thead>\n",
       "    <tr style=\"text-align: right;\">\n",
       "      <th></th>\n",
       "      <th># Correct</th>\n",
       "      <th>Correct Powerball #</th>\n",
       "      <th>Odds: 1/Probability</th>\n",
       "      <th>Payout</th>\n",
       "    </tr>\n",
       "  </thead>\n",
       "  <tbody>\n",
       "    <tr>\n",
       "      <th>0</th>\n",
       "      <td>0</td>\n",
       "      <td>No Powerball</td>\n",
       "      <td>1</td>\n",
       "      <td>0</td>\n",
       "    </tr>\n",
       "    <tr>\n",
       "      <th>1</th>\n",
       "      <td>1</td>\n",
       "      <td>No Powerball</td>\n",
       "      <td>3</td>\n",
       "      <td>0</td>\n",
       "    </tr>\n",
       "    <tr>\n",
       "      <th>2</th>\n",
       "      <td>2</td>\n",
       "      <td>No Powerball</td>\n",
       "      <td>20</td>\n",
       "      <td>0</td>\n",
       "    </tr>\n",
       "    <tr>\n",
       "      <th>3</th>\n",
       "      <td>3</td>\n",
       "      <td>No Powerball</td>\n",
       "      <td>360</td>\n",
       "      <td>7</td>\n",
       "    </tr>\n",
       "    <tr>\n",
       "      <th>4</th>\n",
       "      <td>4</td>\n",
       "      <td>No Powerball</td>\n",
       "      <td>19087</td>\n",
       "      <td>100</td>\n",
       "    </tr>\n",
       "    <tr>\n",
       "      <th>5</th>\n",
       "      <td>5</td>\n",
       "      <td>No Powerball</td>\n",
       "      <td>5153632</td>\n",
       "      <td>1000000</td>\n",
       "    </tr>\n",
       "  </tbody>\n",
       "</table>\n",
       "</div>"
      ],
      "text/plain": [
       "   # Correct Correct Powerball #  Odds: 1/Probability   Payout\n",
       "0          0        No Powerball                    1        0\n",
       "1          1        No Powerball                    3        0\n",
       "2          2        No Powerball                   20        0\n",
       "3          3        No Powerball                  360        7\n",
       "4          4        No Powerball                19087      100\n",
       "5          5        No Powerball              5153632  1000000"
      ]
     },
     "execution_count": 52,
     "metadata": {},
     "output_type": "execute_result"
    }
   ],
   "source": [
    "OddsWO_5935"
   ]
  },
  {
   "cell_type": "markdown",
   "metadata": {},
   "source": [
    "## A Quick Comparison between the two Odds."
   ]
  },
  {
   "cell_type": "code",
   "execution_count": 66,
   "metadata": {},
   "outputs": [
    {
     "name": "stdout",
     "output_type": "stream",
     "text": [
      "[-17, -19, -5, 2250, 264154]\n"
     ]
    }
   ],
   "source": [
    "difference = [Odds_W[i] - Odds_W59[i] for i in range(5)]\n",
    "print(difference)"
   ]
  },
  {
   "cell_type": "code",
   "execution_count": 67,
   "metadata": {},
   "outputs": [
    {
     "name": "stdout",
     "output_type": "stream",
     "text": [
      "[0, 0, 8, 219, 17438]\n"
     ]
    }
   ],
   "source": [
    "difference1 = [OddsWO[i] - Odds_WO59[i] for i in range(5)]\n",
    "print(difference1)"
   ]
  },
  {
   "cell_type": "markdown",
   "metadata": {},
   "source": [
    "### The change in 2015\n",
    "\n",
    "That change in the sizes of the pools in the powerball accomplished two things. It first improved the odds of having a winning ticket with the powerball for tickets with 3 correct numbers or less. Secondly it decreased the odds of having a winning ticket with the powerball for tickets with 4 or more correct numbers. For tickets without the correct powerball the odds of winning either stayed the same or increased. This change has allowed the powerball to increase the coverage of the lottery thus implicitly causing higher jackpot payouts. "
   ]
  }
 ],
 "metadata": {
  "kernelspec": {
   "display_name": "Python 3",
   "language": "python",
   "name": "python3"
  },
  "language_info": {
   "codemirror_mode": {
    "name": "ipython",
    "version": 3
   },
   "file_extension": ".py",
   "mimetype": "text/x-python",
   "name": "python",
   "nbconvert_exporter": "python",
   "pygments_lexer": "ipython3",
   "version": "3.6.5"
  }
 },
 "nbformat": 4,
 "nbformat_minor": 2
}
